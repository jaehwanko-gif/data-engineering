{
 "cells": [
  {
   "cell_type": "code",
   "execution_count": 1,
   "id": "e9f205e1-3cb0-4fdf-8b4b-cacc9d473711",
   "metadata": {},
   "outputs": [],
   "source": [
    "hairstyles=[\"bouffant\", \"pixie\", \"dreadlocks\", \"crew\", \"bowl\", \"bob\", \"mohawk\", \"flattop\"]"
   ]
  },
  {
   "cell_type": "code",
   "execution_count": 2,
   "id": "751d71a8-f1b4-48d7-b37f-7382ff0ea4b6",
   "metadata": {},
   "outputs": [],
   "source": [
    "prices = [30, 25, 40, 20, 20, 35, 50, 35]"
   ]
  },
  {
   "cell_type": "code",
   "execution_count": 3,
   "id": "fbb68ade-8e3e-4f34-8209-e28bf023d195",
   "metadata": {},
   "outputs": [],
   "source": [
    "last_week = [2, 3, 5, 8, 4, 4, 6, 2]"
   ]
  },
  {
   "cell_type": "code",
   "execution_count": 4,
   "id": "db7739b1-a20f-4416-b0c6-212283430dbc",
   "metadata": {},
   "outputs": [],
   "source": [
    "total_price=0"
   ]
  },
  {
   "cell_type": "code",
   "execution_count": 12,
   "id": "8e9f52d5-73f8-463c-923c-296e32c4bb82",
   "metadata": {},
   "outputs": [],
   "source": [
    "total_price+=sum(prices)"
   ]
  },
  {
   "cell_type": "code",
   "execution_count": 13,
   "id": "295c6559-7bf8-4db2-9de1-e86a1aa28467",
   "metadata": {},
   "outputs": [],
   "source": [
    "average_price=total_price/len(prices)"
   ]
  },
  {
   "cell_type": "code",
   "execution_count": 15,
   "id": "76a73706-bcc7-4ca9-b711-ad575254b8df",
   "metadata": {},
   "outputs": [
    {
     "name": "stdout",
     "output_type": "stream",
     "text": [
      "Average price is 31.875\n"
     ]
    }
   ],
   "source": [
    "print(\"Average price is\",average_price)"
   ]
  },
  {
   "cell_type": "code",
   "execution_count": 19,
   "id": "5c65fd63-1b58-46f1-804d-57dd90a3a47e",
   "metadata": {},
   "outputs": [
    {
     "data": {
      "text/plain": [
       "[25, 20, 35, 15, 15, 30, 45, 30]"
      ]
     },
     "execution_count": 19,
     "metadata": {},
     "output_type": "execute_result"
    }
   ],
   "source": [
    "new_prices=[price-5 for price in prices]\n",
    "new_prices"
   ]
  },
  {
   "cell_type": "code",
   "execution_count": 20,
   "id": "7aa74524-e404-4722-9f0d-97446904dc33",
   "metadata": {},
   "outputs": [],
   "source": [
    "total_revenue=0"
   ]
  },
  {
   "cell_type": "code",
   "execution_count": 29,
   "id": "7ac71b96-e923-45ab-b713-d8a4b8f0165c",
   "metadata": {},
   "outputs": [],
   "source": [
    "for i in range(0,len(hairstyles)):\n",
    " total_revenue+=prices[i]*last_week[i]"
   ]
  },
  {
   "cell_type": "code",
   "execution_count": 30,
   "id": "26774e3e-45ce-48e7-af91-1fc4bbad7b97",
   "metadata": {},
   "outputs": [
    {
     "data": {
      "text/plain": [
       "1155"
      ]
     },
     "execution_count": 30,
     "metadata": {},
     "output_type": "execute_result"
    }
   ],
   "source": [
    "total_revenue"
   ]
  },
  {
   "cell_type": "code",
   "execution_count": 31,
   "id": "3233c256-7550-410c-b58f-a474119fe457",
   "metadata": {},
   "outputs": [],
   "source": [
    "average_daily_revenue=total_revenue/7"
   ]
  },
  {
   "cell_type": "code",
   "execution_count": 33,
   "id": "7104a3ae-d3b3-4f03-b212-b0269fa2beae",
   "metadata": {},
   "outputs": [
    {
     "name": "stdout",
     "output_type": "stream",
     "text": [
      "Average daily revenue is 165.0\n"
     ]
    }
   ],
   "source": [
    "print('Average daily revenue is',average_daily_revenue)"
   ]
  },
  {
   "cell_type": "code",
   "execution_count": 45,
   "id": "66999417-e99f-4e5c-8ece-f85cc6090411",
   "metadata": {},
   "outputs": [],
   "source": [
    "\n",
    "cuts_under_30=[hairstyles[i] for i in range(0,len(prices)-1) if new_prices[i]<30]\n"
   ]
  },
  {
   "cell_type": "code",
   "execution_count": 46,
   "id": "e0d7bfbd-2f34-438c-a8bb-92a7ed6167c9",
   "metadata": {},
   "outputs": [
    {
     "data": {
      "text/plain": [
       "['bouffant', 'pixie', 'crew', 'bowl']"
      ]
     },
     "execution_count": 46,
     "metadata": {},
     "output_type": "execute_result"
    }
   ],
   "source": [
    "cuts_under_30"
   ]
  },
  {
   "cell_type": "code",
   "execution_count": null,
   "id": "84df7386-64cf-4086-af4a-acdcab8534aa",
   "metadata": {},
   "outputs": [],
   "source": []
  }
 ],
 "metadata": {
  "kernelspec": {
   "display_name": "Python 3",
   "language": "python",
   "name": "python3"
  },
  "language_info": {
   "codemirror_mode": {
    "name": "ipython",
    "version": 3
   },
   "file_extension": ".py",
   "mimetype": "text/x-python",
   "name": "python",
   "nbconvert_exporter": "python",
   "pygments_lexer": "ipython3",
   "version": "3.8.8"
  }
 },
 "nbformat": 4,
 "nbformat_minor": 5
}
