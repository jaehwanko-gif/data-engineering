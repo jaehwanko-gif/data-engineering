{
 "cells": [
  {
   "cell_type": "code",
   "execution_count": 3,
   "id": "989492b9-99e4-4b47-b528-282b3e351e97",
   "metadata": {},
   "outputs": [],
   "source": [
    "lovely_loveseat_description=(\"Lovely Loveseat. Tufted polyester blend on wood. 32 inches high x 40 inches wide x 30 inches deep. Red or white.\")"
   ]
  },
  {
   "cell_type": "code",
   "execution_count": 4,
   "id": "4fdbbcbb-c4c5-4bf5-86ca-1477a54cbf4d",
   "metadata": {},
   "outputs": [],
   "source": [
    "lovely_loveseat_price=254.00"
   ]
  },
  {
   "cell_type": "code",
   "execution_count": 5,
   "id": "1537ea29-a98b-448a-86e2-7dc0546a5c82",
   "metadata": {},
   "outputs": [],
   "source": [
    "stylish_settee_description=(\"Stylish Settee. Faux leather on birch. 29.50 inches high x 54.75 inches wide x 28 inches deep. Black.\")"
   ]
  },
  {
   "cell_type": "code",
   "execution_count": 6,
   "id": "01604c3a-6a5d-4e9a-8e2d-bea5466cc152",
   "metadata": {},
   "outputs": [],
   "source": [
    "stylish_settee_price=180.50"
   ]
  },
  {
   "cell_type": "code",
   "execution_count": 8,
   "id": "3fe053fd-c50b-47d8-ab31-871a6355ebb6",
   "metadata": {},
   "outputs": [],
   "source": [
    "luxurious_lamp_description=(\"Luxurious Lamp. Glass and iron. 36 inches tall. Brown with cream shade.\")"
   ]
  },
  {
   "cell_type": "code",
   "execution_count": 9,
   "id": "8d52c052-529d-415f-9801-1ef4c0c6dba5",
   "metadata": {},
   "outputs": [],
   "source": [
    "luxurious_lamp_price=52.15"
   ]
  },
  {
   "cell_type": "code",
   "execution_count": 11,
   "id": "044c2a20-1ef6-42d2-8fcf-0ee10c5ff233",
   "metadata": {},
   "outputs": [],
   "source": [
    "sales_tax=.088"
   ]
  },
  {
   "cell_type": "code",
   "execution_count": 12,
   "id": "41877259-ab4b-4677-9253-09046fe678de",
   "metadata": {},
   "outputs": [],
   "source": [
    "customer_one_total=0"
   ]
  },
  {
   "cell_type": "code",
   "execution_count": 13,
   "id": "c0968d52-7fcb-48ee-b0f5-7e87e901c19a",
   "metadata": {},
   "outputs": [],
   "source": [
    "customer_one_itemization=\"\""
   ]
  },
  {
   "cell_type": "code",
   "execution_count": 22,
   "id": "fecc424f-de80-49d3-80eb-1af2c799b717",
   "metadata": {},
   "outputs": [],
   "source": [
    "customer_one_total+=lovely_loveseat_price"
   ]
  },
  {
   "cell_type": "code",
   "execution_count": 23,
   "id": "75f86d10-2fd1-426e-9583-f000d600f799",
   "metadata": {},
   "outputs": [],
   "source": [
    "customer_one_itemization+=lovely_loveseat_description"
   ]
  },
  {
   "cell_type": "code",
   "execution_count": 24,
   "id": "02e7bbf2-ab0e-44ce-9455-1790a663c732",
   "metadata": {},
   "outputs": [],
   "source": [
    "customer_one_total+=luxurious_lamp_price"
   ]
  },
  {
   "cell_type": "code",
   "execution_count": 25,
   "id": "c150e1bf-2d43-4ed7-bdbb-68ba2e80ad40",
   "metadata": {},
   "outputs": [],
   "source": [
    "customer_one_itemization+=luxurious_lamp_description"
   ]
  },
  {
   "cell_type": "code",
   "execution_count": 26,
   "id": "a56561bc-d10d-49ec-acf7-aba769602e5a",
   "metadata": {},
   "outputs": [],
   "source": [
    "customer_one_tax=customer_one_total*sales_tax"
   ]
  },
  {
   "cell_type": "code",
   "execution_count": 27,
   "id": "4185c9c4-58fd-46c2-abc7-11d83bad9d00",
   "metadata": {},
   "outputs": [],
   "source": [
    "customer_one_total+=customer_one_tax"
   ]
  },
  {
   "cell_type": "code",
   "execution_count": 38,
   "id": "f75cbc97-0ff2-4a94-8f5a-e018f83aaeac",
   "metadata": {},
   "outputs": [
    {
     "name": "stdout",
     "output_type": "stream",
     "text": [
      "Customer One Items:\n",
      "Lovely Loveseat. Tufted polyester blend on wood. 32 inches high x 40 inches wide x 30 inches deep. Red or white.Luxurious Lamp. Glass and iron. 36 inches tall. Brown with cream shade.Lovely Loveseat. Tufted polyester blend on wood. 32 inches high x 40 inches wide x 30 inches deep. Red or white.Luxurious Lamp. Glass and iron. 36 inches tall. Brown with cream shade.\n",
      "Customer One Total:\n",
      " 666.1823999999999\n"
     ]
    }
   ],
   "source": [
    "print('Customer One Items:\\n'+customer_one_itemization)\n",
    "print('Customer One Total:\\n',customer_one_total)"
   ]
  },
  {
   "cell_type": "code",
   "execution_count": null,
   "id": "3fc40e51-5449-4e6e-b663-2bdf7f082beb",
   "metadata": {},
   "outputs": [],
   "source": []
  }
 ],
 "metadata": {
  "kernelspec": {
   "display_name": "Python 3",
   "language": "python",
   "name": "python3"
  },
  "language_info": {
   "codemirror_mode": {
    "name": "ipython",
    "version": 3
   },
   "file_extension": ".py",
   "mimetype": "text/x-python",
   "name": "python",
   "nbconvert_exporter": "python",
   "pygments_lexer": "ipython3",
   "version": "3.8.8"
  }
 },
 "nbformat": 4,
 "nbformat_minor": 5
}
