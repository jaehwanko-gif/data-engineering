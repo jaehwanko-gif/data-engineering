{
 "cells": [
  {
   "cell_type": "code",
   "execution_count": 1,
   "id": "d45d974b-70f3-43c3-ac1f-fd4bdb1f55b5",
   "metadata": {},
   "outputs": [],
   "source": [
    "subject=[\"physics\",\"calculus\",\"poetry\",\"history\"]"
   ]
  },
  {
   "cell_type": "code",
   "execution_count": 2,
   "id": "7240749b-95ff-4ecb-9b21-8688de0faf12",
   "metadata": {},
   "outputs": [],
   "source": [
    "grades=[98,97,85,88]"
   ]
  },
  {
   "cell_type": "code",
   "execution_count": 33,
   "id": "84214f4e-862f-48bf-9a8b-7b94024275ef",
   "metadata": {},
   "outputs": [],
   "source": [
    "gradebook=[[subject[0],grades[0]],[subject[1],grades[1]],[subject[2],grades[2]],[subject[3],grades[3]]]"
   ]
  },
  {
   "cell_type": "code",
   "execution_count": 34,
   "id": "b99e4fa9-6017-49f6-8213-e340d399ae65",
   "metadata": {},
   "outputs": [
    {
     "name": "stdout",
     "output_type": "stream",
     "text": [
      "[['physics', 98], ['calculus', 97], ['poetry', 85], ['history', 88]]\n"
     ]
    }
   ],
   "source": [
    "print(gradebook)"
   ]
  },
  {
   "cell_type": "code",
   "execution_count": 35,
   "id": "58052cd1-e0b7-4fa6-b32b-5ce9d638fa0c",
   "metadata": {},
   "outputs": [
    {
     "data": {
      "text/plain": [
       "list"
      ]
     },
     "execution_count": 35,
     "metadata": {},
     "output_type": "execute_result"
    }
   ],
   "source": [
    "type(gradebook)"
   ]
  },
  {
   "cell_type": "code",
   "execution_count": 36,
   "id": "79c62334-1674-4f60-b68f-9ac911eb9567",
   "metadata": {},
   "outputs": [],
   "source": [
    "gradebook.append([\"computer science\",100])"
   ]
  },
  {
   "cell_type": "code",
   "execution_count": 37,
   "id": "330719af-371a-4ca1-a167-a3c7075e75f5",
   "metadata": {},
   "outputs": [
    {
     "data": {
      "text/plain": [
       "[['physics', 98],\n",
       " ['calculus', 97],\n",
       " ['poetry', 85],\n",
       " ['history', 88],\n",
       " ['computer science', 100]]"
      ]
     },
     "execution_count": 37,
     "metadata": {},
     "output_type": "execute_result"
    }
   ],
   "source": [
    "gradebook"
   ]
  },
  {
   "cell_type": "code",
   "execution_count": 38,
   "id": "082c66eb-a8bf-4e26-89ed-9dbcb8a53116",
   "metadata": {},
   "outputs": [],
   "source": [
    "gradebook.append([\"visual art\",93])"
   ]
  },
  {
   "cell_type": "code",
   "execution_count": 39,
   "id": "969b1b6f-ee29-4c00-978e-22dcdb988294",
   "metadata": {},
   "outputs": [
    {
     "data": {
      "text/plain": [
       "[['physics', 98],\n",
       " ['calculus', 97],\n",
       " ['poetry', 85],\n",
       " ['history', 88],\n",
       " ['computer science', 100],\n",
       " ['visual art', 93]]"
      ]
     },
     "execution_count": 39,
     "metadata": {},
     "output_type": "execute_result"
    }
   ],
   "source": [
    "gradebook"
   ]
  },
  {
   "cell_type": "code",
   "execution_count": 41,
   "id": "d5eef22a-dc0b-46b3-9431-d0866016dfea",
   "metadata": {},
   "outputs": [],
   "source": [
    "gradebook[5]=[\"visual art\",98]"
   ]
  },
  {
   "cell_type": "code",
   "execution_count": 43,
   "id": "d9b56cbf-9e36-4e3f-ad0e-32ab5d447b2e",
   "metadata": {},
   "outputs": [],
   "source": [
    "gradebook.remove([\"poetry\",85])"
   ]
  },
  {
   "cell_type": "code",
   "execution_count": 44,
   "id": "1507655e-6257-40b8-b993-a8a3b61a9c89",
   "metadata": {},
   "outputs": [],
   "source": [
    "gradebook.append([\"poetry\",\"pass\"])"
   ]
  },
  {
   "cell_type": "code",
   "execution_count": 45,
   "id": "0e880f58-6efe-48b9-8927-887cd1827336",
   "metadata": {},
   "outputs": [
    {
     "data": {
      "text/plain": [
       "[['physics', 98],\n",
       " ['calculus', 97],\n",
       " ['history', 88],\n",
       " ['computer science', 100],\n",
       " ['visual art', 98],\n",
       " ['poetry', 'pass']]"
      ]
     },
     "execution_count": 45,
     "metadata": {},
     "output_type": "execute_result"
    }
   ],
   "source": [
    "gradebook"
   ]
  },
  {
   "cell_type": "code",
   "execution_count": 46,
   "id": "601315e3-78a3-4173-b1c3-a0bba04c9085",
   "metadata": {},
   "outputs": [],
   "source": [
    "last_semester_gradebook=[[\"politics\",80],[\"latin\",96],[\"dance\",97],[\"architecture\",65]]"
   ]
  },
  {
   "cell_type": "code",
   "execution_count": 47,
   "id": "fb6185c2-3914-4a82-88bc-772a61ea0dfd",
   "metadata": {},
   "outputs": [],
   "source": [
    "full_gradebook=gradebook+last_semester_gradebook"
   ]
  },
  {
   "cell_type": "code",
   "execution_count": 48,
   "id": "3f2c499c-7ecc-4e1c-87c8-c9de1942ae6f",
   "metadata": {},
   "outputs": [
    {
     "data": {
      "text/plain": [
       "[['physics', 98],\n",
       " ['calculus', 97],\n",
       " ['history', 88],\n",
       " ['computer science', 100],\n",
       " ['visual art', 98],\n",
       " ['poetry', 'pass'],\n",
       " ['politics', 80],\n",
       " ['latin', 96],\n",
       " ['dance', 97],\n",
       " ['architecture', 65]]"
      ]
     },
     "execution_count": 48,
     "metadata": {},
     "output_type": "execute_result"
    }
   ],
   "source": [
    "full_gradebook"
   ]
  },
  {
   "cell_type": "code",
   "execution_count": null,
   "id": "02ac83bd-d70e-488f-9337-813337837ad7",
   "metadata": {},
   "outputs": [],
   "source": []
  }
 ],
 "metadata": {
  "kernelspec": {
   "display_name": "Python 3",
   "language": "python",
   "name": "python3"
  },
  "language_info": {
   "codemirror_mode": {
    "name": "ipython",
    "version": 3
   },
   "file_extension": ".py",
   "mimetype": "text/x-python",
   "name": "python",
   "nbconvert_exporter": "python",
   "pygments_lexer": "ipython3",
   "version": "3.8.8"
  }
 },
 "nbformat": 4,
 "nbformat_minor": 5
}
