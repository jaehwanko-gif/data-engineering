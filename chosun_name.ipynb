{
 "cells": [
  {
   "cell_type": "code",
   "execution_count": 1,
   "id": "4fb751e2-6b8d-4a6a-b636-3fbbc251becf",
   "metadata": {},
   "outputs": [],
   "source": [
    "month=['쌍', '쇠', '복', '돌', '팽', '육', '쌍', '개', '칠', '갑', '삼', '방']"
   ]
  },
  {
   "cell_type": "code",
   "execution_count": 2,
   "id": "c7acce02-2f87-4d51-9ff2-0216b2954e1b",
   "metadata": {},
   "outputs": [],
   "source": [
    "day=['봉', '구', '욕', '포', '똥', '삼', '식', '석', '놈', '님', '년', '돌', '단', '득', '방', '질', '장', '걸', '래', '룡', '동', '순', '자', '박', '창', '언', '것', '포', '만', '단', '국']\n"
   ]
  },
  {
   "cell_type": "code",
   "execution_count": 6,
   "id": "eb5b9228-acc0-4f45-94ee-acb25561f8a8",
   "metadata": {},
   "outputs": [
    {
     "name": "stdout",
     "output_type": "stream",
     "text": [
      "당신의 조선시대 이름은 고돌것 입니다\n"
     ]
    }
   ],
   "source": [
    "def get_my_chosun_name(name,b,c):\n",
    "    print(\"당신의 조선시대 이름은\",name+month[b-1]+day[c-1],\"입니다\")\n",
    "\n",
    "get_my_chosun_name('고',4,27)"
   ]
  },
  {
   "cell_type": "code",
   "execution_count": null,
   "id": "462b9709-9ea7-4f55-b886-705e20ed12c8",
   "metadata": {},
   "outputs": [],
   "source": []
  }
 ],
 "metadata": {
  "kernelspec": {
   "display_name": "Python 3",
   "language": "python",
   "name": "python3"
  },
  "language_info": {
   "codemirror_mode": {
    "name": "ipython",
    "version": 3
   },
   "file_extension": ".py",
   "mimetype": "text/x-python",
   "name": "python",
   "nbconvert_exporter": "python",
   "pygments_lexer": "ipython3",
   "version": "3.8.8"
  }
 },
 "nbformat": 4,
 "nbformat_minor": 5
}
